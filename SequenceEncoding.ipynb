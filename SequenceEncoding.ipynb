{
 "cells": [
  {
   "cell_type": "code",
   "execution_count": 2,
   "metadata": {},
   "outputs": [
    {
     "name": "stderr",
     "output_type": "stream",
     "text": [
      "Using TensorFlow backend.\n"
     ]
    },
    {
     "name": "stdout",
     "output_type": "stream",
     "text": [
      "C:\\Users\\frank\\iGEM\n"
     ]
    }
   ],
   "source": [
    "import numpy as np\n",
    "import pickle\n",
    "import pandas as pd\n",
    "import matplotlib.pyplot as plt\n",
    "import os\n",
    "import math\n",
    "from scipy.integrate import odeint\n",
    "from scipy.optimize import minimize\n",
    "import scipy.stats as st\n",
    "from scipy import integrate\n",
    "from lmfit import minimize, Parameters, Parameter, report_fit\n",
    "%matplotlib inline\n",
    "#from pepnet.encoder import Encoder\n",
    "import keras\n",
    "#keras.__version__\n",
    "#encoder = Encoder()\n",
    "#X_index = encoder.encode_index_array([\"SYF\", \"GLYCI\"], max_peptide_length=9)\n",
    "\n",
    "pathName = os.getcwd()\n",
    "print(pathName)"
   ]
  },
  {
   "cell_type": "code",
   "execution_count": 3,
   "metadata": {},
   "outputs": [
    {
     "name": "stdout",
     "output_type": "stream",
     "text": [
      "Total # of antibodies are: 1384\n"
     ]
    }
   ],
   "source": [
    "# Open Cov-AbDab Database\n",
    "url = \"https://raw.githubusercontent.com/Frankdag20/harvard-igem-2020/master/CoV-AbDab_120720.csv\"\n",
    "df = pd.read_csv(url, index_col=0)\n",
    "\n",
    "# There are 1384 antibodies\n",
    "print(\"Total # of antibodies are: \" + str(len(df['CDRH3'])))"
   ]
  },
  {
   "cell_type": "code",
   "execution_count": 4,
   "metadata": {},
   "outputs": [
    {
     "data": {
      "image/png": "[encoded data removed]",
      "text/plain": [
       "<Figure size 432x288 with 1 Axes>"
      ]
     },
     "metadata": {
      "needs_background": "light"
     },
     "output_type": "display_data"
    }
   ],
   "source": [
    "# Plot hisotgram of CDRH3 length\n",
    "temp = df['CDRH3']\n",
    "cdrh3 = []\n",
    "for i in range(len(temp)):\n",
    "    cdrh3.append(temp[i])\n",
    "    \n",
    "# Make list of the length of each sequence\n",
    "plot_len = []\n",
    "for i in cdrh3:\n",
    "    plot_len.append(len(i))\n",
    "\n",
    "plt.hist(plot_len)\n",
    "plt.ylabel(\"Frequency\")\n",
    "plt.xlabel(\"Sequence Length\")\n",
    "plt.title(\"Histogram of CDRH3 Sequence Length\")\n",
    "plt.show()"
   ]
  },
  {
   "cell_type": "code",
   "execution_count": 5,
   "metadata": {},
   "outputs": [],
   "source": [
    "# Outline example protein and all possible amino acids\n",
    "example_protein = \"\"\"MKLFWLLFTIGFCWAQYSSNTQQGRTSIVHLFEWRWVDIALECERYLAPKGFGGVQVSPPNENVAIHNPFRPWWERYQPVSYKLCTRSGNEDEFRNMVTRCNNVGVRIYVDAVINHMCGNAVSAGTSSTCGSYFNPGSRDFPAVPYSGWDFNDGKCKTGSGDIENYNDATQVRDCRLSGLLDLALGKDYVRSKIAEYMNHLIDIGVAGFRIDASKHMWPGDIKAILDKLHNLNSNWFPEGSKPFIYQEVIDLGGEPIKSSDYFGNGRVTEFKYGAKLGTVIRKWNGEKMSYLKNWGEGWGFMPSDRALVFVDNHDNQRGHGAGGASILTFWDARLYKMAVGFMLAHPYGFTRVMSSYRWPRYFENGKDVNDWVGPPNDNGVTKEVTINPDTTCGNDWVCEHRWRQIRNMVNFRNVVDGQPFTNWYDNGSNQVAFGRGNRGFIVFNNDDWTFSLTLQTGLPAGTYCDVISGDKINGNCTGIKIYVSDDGKAHFSISNSAEDPFIAIHAESKL\"\"\" #exchange sequence for unique analysis\n",
    "amino_acid = ['C', 'D', 'S', 'Q', 'K', 'P', 'T', 'F', 'A', 'X', 'G', 'I', 'E', 'L', 'H', 'R', 'W', 'M', 'N', 'Y', 'V']\n",
    "\n",
    "out = {'C' : [], 'D' : [], 'S':[], 'Q':[], 'K':[], 'P':[], 'T':[], 'F':[], 'A':[], 'X':[], 'G':[], 'I':[], 'E':[], 'L':[], 'H':[], 'R':[], 'W':[], 'M':[], 'N':[], 'Y':[], 'V':[]}\n",
    "\n",
    "# Define function to count frequency of each amino acid in a given sequence\n",
    "def amino_freq(sequence):\n",
    "    amino_acid = ['C', 'D', 'S', 'Q', 'K', 'P', 'T', 'F', 'A', 'X', 'G', 'I', 'E', 'L', 'H', 'R', 'W', 'M', 'N', 'Y', 'V']\n",
    "    counts = {}\n",
    "    for amino in amino_acid: \n",
    "        counts[amino] = 0\n",
    "        total = 0\n",
    "    for a in amino_acid:\n",
    "        if a in protein:\n",
    "            counts[a] = protein.count(a)\n",
    "            fraction = float(counts[a]) / float(len(protein))\n",
    "            out[a].append(fraction)\n",
    "            percent = fraction * 100\n",
    "            print(\"Percentage of \" + a + \" is:  %.2f%%\" % percent)\n",
    "            total += percent\n",
    "        else:\n",
    "            total += 0\n",
    "            print(\"Percentage of \" + a + \" is:  0.0%\")\n",
    "    #print('Total: ', str(total) + '%')\n",
    "    #print('Amino Acid Counts: ', counts)"
   ]
  },
  {
   "cell_type": "code",
   "execution_count": 6,
   "metadata": {},
   "outputs": [],
   "source": [
    "# Go through each sequence and produce a histogram\n",
    "#plot = []\n",
    "#for i in range(len(cdrh3)):\n",
    "#    amino_freq(i)"
   ]
  },
  {
   "cell_type": "markdown",
   "metadata": {},
   "source": [
    "# One-Hot Encoding of Amino Acid Sequences"
   ]
  },
  {
   "cell_type": "code",
   "execution_count": 7,
   "metadata": {},
   "outputs": [],
   "source": [
    "def amino_enc(sequence, desired_length):\n",
    "    \n",
    "    # Ordering of amino acid encoding was utilized from \n",
    "    # \"An Investigation in Optimal Encoding of Protein Primary Sequence for \n",
    "    # Structure Prediction by Artificial Neural Networks\"\n",
    "    # Paper found here: https://arxiv.org/ftp/arxiv/papers/2008/2008.00539.pdf\n",
    "    amino_acids = ['A', 'R', 'N', 'D', 'C', 'Q', 'E', 'G', 'H', 'I', 'L', 'K', 'M', 'F', 'P', 'S', 'T', 'W', 'Y', 'V', 'X', 'O']\n",
    "    amino_key = {'A' : [], 'R' : [], 'N':[], 'D':[], 'C':[], 'Q':[], 'E':[], \n",
    "                 'G':[], 'H':[], 'I':[], 'L':[], 'K':[], 'M':[], 'F':[], 'P':[], \n",
    "                 'S':[], 'T':[], 'W':[], 'Y':[], 'V':[], 'X':[], 'O':[]}\n",
    "    \n",
    "    if len(sequence) != desired_length:\n",
    "        diff = len(sequence) - desired_length\n",
    "        # Run if desired length is smaller than amino acid length\n",
    "        while diff > 0:\n",
    "            # If it's even, remove an even amount, else, remove an odd amount\n",
    "            if diff % 2 == 0:\n",
    "                sequence = sequence[1:len(sequence)-1]\n",
    "            else:\n",
    "                sequence = sequence[2:len(sequence)-1]\n",
    "            diff = len(sequence) - desired_length\n",
    "        # Run if desired length is larger than amino acid\n",
    "        while diff < 0:\n",
    "            # If it's even, add an event amount, else, add an odd amount\n",
    "            if diff % 2 == 0:\n",
    "                # O is designated as the 'null' amino acid for our purposes\n",
    "                sequence = 'O' + sequence + 'O'\n",
    "            else:\n",
    "                sequence = 'O' + 'O' + sequence + 'O'\n",
    "            diff = len(sequence) - desired_length\n",
    "        # If the lengths are equal, do nothing and proceed as normal\n",
    "    print(sequence)\n",
    "    lst = [0]*len(sequence)\n",
    "    for i in range(len(lst)):\n",
    "        j = 0\n",
    "        insert_lst = [0]*len(amino_acids)\n",
    "        for k in amino_acids:\n",
    "            if sequence[i] == k and sequence[i] != 'O':\n",
    "                insert_lst[j] = 1\n",
    "            else:\n",
    "                insert_lst[j] = 0\n",
    "            j += 1\n",
    "        lst[i] = insert_lst\n",
    "    print(lst)"
   ]
  },
  {
   "cell_type": "code",
   "execution_count": 8,
   "metadata": {},
   "outputs": [
    {
     "name": "stdout",
     "output_type": "stream",
     "text": [
      "OOCQKHRWCCO\n",
      "[[0, 0, 0, 0, 0, 0, 0, 0, 0, 0, 0, 0, 0, 0, 0, 0, 0, 0, 0, 0, 0, 0], [0, 0, 0, 0, 0, 0, 0, 0, 0, 0, 0, 0, 0, 0, 0, 0, 0, 0, 0, 0, 0, 0], [0, 0, 0, 0, 1, 0, 0, 0, 0, 0, 0, 0, 0, 0, 0, 0, 0, 0, 0, 0, 0, 0], [0, 0, 0, 0, 0, 1, 0, 0, 0, 0, 0, 0, 0, 0, 0, 0, 0, 0, 0, 0, 0, 0], [0, 0, 0, 0, 0, 0, 0, 0, 0, 0, 0, 1, 0, 0, 0, 0, 0, 0, 0, 0, 0, 0], [0, 0, 0, 0, 0, 0, 0, 0, 1, 0, 0, 0, 0, 0, 0, 0, 0, 0, 0, 0, 0, 0], [0, 1, 0, 0, 0, 0, 0, 0, 0, 0, 0, 0, 0, 0, 0, 0, 0, 0, 0, 0, 0, 0], [0, 0, 0, 0, 0, 0, 0, 0, 0, 0, 0, 0, 0, 0, 0, 0, 0, 1, 0, 0, 0, 0], [0, 0, 0, 0, 1, 0, 0, 0, 0, 0, 0, 0, 0, 0, 0, 0, 0, 0, 0, 0, 0, 0], [0, 0, 0, 0, 1, 0, 0, 0, 0, 0, 0, 0, 0, 0, 0, 0, 0, 0, 0, 0, 0, 0], [0, 0, 0, 0, 0, 0, 0, 0, 0, 0, 0, 0, 0, 0, 0, 0, 0, 0, 0, 0, 0, 0]]\n"
     ]
    }
   ],
   "source": [
    "amino_enc(\"CQKHRWCC\", 11)"
   ]
  },
  {
   "cell_type": "code",
   "execution_count": null,
   "metadata": {},
   "outputs": [],
   "source": []
  }
 ],
 "metadata": {
  "kernelspec": {
   "display_name": "Python 3",
   "language": "python",
   "name": "python3"
  },
  "language_info": {
   "codemirror_mode": {
    "name": "ipython",
    "version": 3
   },
   "file_extension": ".py",
   "mimetype": "text/x-python",
   "name": "python",
   "nbconvert_exporter": "python",
   "pygments_lexer": "ipython3",
   "version": "3.7.3"
  }
 },
 "nbformat": 4,
 "nbformat_minor": 2
}
