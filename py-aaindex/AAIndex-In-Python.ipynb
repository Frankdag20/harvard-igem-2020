{
 "cells": [
  {
   "cell_type": "code",
   "execution_count": 3,
   "metadata": {},
   "outputs": [],
   "source": [
    "import pandas as pd"
   ]
  },
  {
   "cell_type": "markdown",
   "metadata": {},
   "source": [
    "Run this function to convert any sequence to any desired amount of AAIndices."
   ]
  },
  {
   "cell_type": "code",
   "execution_count": 4,
   "metadata": {},
   "outputs": [],
   "source": [
    "def get_aaindex_py(sequence, aaindex):\n",
    "    # =======================\n",
    "    # INPUT\n",
    "    # -----------------\n",
    "    # sequence => amino acid sequence in string format\n",
    "    # aaindex => list of numerical index for each AAIndex (ex. 1 = alpha-CH_chemical_shifts_(Andersen_et_al.,_1992))\n",
    "    # =======================\n",
    "    # OUTPUT\n",
    "    # -----------------\n",
    "    # val_list => collapsed list of numerical value for each amino acid sequence\n",
    "    #             Ex. ABC becomes [0.3, 0.5, 0.8]\n",
    "    # =======================\n",
    "    \n",
    "    # Open file to gain access to array of values\n",
    "    aaind = pd.read_csv('interpolForPython.csv')\n",
    "    val_list = []\n",
    "    \n",
    "    amino_acids = list(aaind.columns[1:])\n",
    "    sq = list(sequence)\n",
    "      \n",
    "    for g in aaindex:\n",
    "        for i in sq:\n",
    "            for k in amino_acids:\n",
    "                if i == k:\n",
    "                    # Account for off by 1 error since AAindex starts at 1\n",
    "                    val_list.append(aaind[k][g-1])\n",
    "\n",
    "    return val_list"
   ]
  },
  {
   "cell_type": "code",
   "execution_count": 7,
   "metadata": {},
   "outputs": [
    {
     "name": "stdout",
     "output_type": "stream",
     "text": [
      "[0.74, 0.96, 0.96, 0.74, 0.74, 0.74, 0.74, 0.74, 0.74, 0.74, 0.96, 0.96, 0.96, 0.96, 0.74, 4.76, 3.67, 4.54, 4.76, 4.76, 4.76, 4.76, 4.76, 4.76, 4.76, 4.54, 4.54, 4.54, 4.54, 4.76]\n"
     ]
    }
   ],
   "source": [
    "print(get_aaindex_py('ACQAAAAAAAQQQQA', [40, 90]))"
   ]
  },
  {
   "cell_type": "markdown",
   "metadata": {},
   "source": [
    "Great! Now you can use this for what computational biology projects you work on!"
   ]
  }
 ],
 "metadata": {
  "kernelspec": {
   "display_name": "Python 3",
   "language": "python",
   "name": "python3"
  },
  "language_info": {
   "codemirror_mode": {
    "name": "ipython",
    "version": 3
   },
   "file_extension": ".py",
   "mimetype": "text/x-python",
   "name": "python",
   "nbconvert_exporter": "python",
   "pygments_lexer": "ipython3",
   "version": "3.7.3"
  }
 },
 "nbformat": 4,
 "nbformat_minor": 4
}
