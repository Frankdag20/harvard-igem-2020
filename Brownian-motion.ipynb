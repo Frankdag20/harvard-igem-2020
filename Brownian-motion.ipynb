{
 "cells": [
  {
   "cell_type": "code",
   "execution_count": 1,
   "metadata": {},
   "outputs": [],
   "source": [
    "import random\n",
    "import numpy as np\n",
    "import matplotlib.pyplot as plt\n",
    "import matplotlib\n",
    "import matplotlib.animation as animation\n",
    "from mpl_toolkits import mplot3d\n",
    "import math"
   ]
  },
  {
   "cell_type": "code",
   "execution_count": 2,
   "metadata": {},
   "outputs": [],
   "source": [
    "def spher2cart(r, theta, phi):\n",
    "    return [\n",
    "         r * math.sin(theta) * math.cos(phi),\n",
    "         r * math.sin(theta) * math.sin(phi),\n",
    "         r * math.cos(theta)\n",
    "    ]\n",
    "\n",
    "def randPhi():\n",
    "    return math.radians(np.random.randint(0,361))\n",
    "\n",
    "def randTheta():\n",
    "    return math.radians(np.random.randint(0,181))"
   ]
  },
  {
   "cell_type": "markdown",
   "metadata": {},
   "source": [
    "mice have ~58.5ml/kg of blood/kg of body weight\n",
    "\n",
    "origami delivered at 0.08mg/kg\n",
    "\n",
    "0.08/58.5=0.0014mg/ml of origami/ml of blood\n",
    "\n",
    "scaffold of 7249nt corresponds to 4 403 200.5g/mol\n",
    "\n",
    "(ThermoFisher: M.W. of dsDNA = (# nucleotides x 607.4) + 157.9)\n",
    "\n",
    "which leads to 318pM\n",
    "\n",
    "\n",
    "RNase in blood is 0.11ug/ml\n",
    "\n",
    "RNase A is ~13.7kDa\n",
    "\n",
    "leads to 8.03nM of RNase\n",
    "\n",
    "\n",
    "suppose 1L box = 10^24nm^3\n",
    "\n",
    "V of RNase is ~113.1nm^3, therefore radius of 3nm\n",
    "\n",
    "8.03nM of RNase * 6.023x10^23 = 4.84x10^15 molecules of RNase in 1L\n",
    "\n",
    "DNA origami is 80nm side length, 512 000nm^3\n",
    "\n",
    "0.31nM of origami equates to 1.87x10^14 molecules of origami in 1L\n",
    "\n",
    "Unoccupied V = 10^24nm^3 - 5.47x10^17nm^3 - 9.57x10^19nm^3 = ~10^24nm^3\n",
    "\n",
    "Average distance between origami and nuclease (10^24)^(1/3) = 0.1m = 10 000 000nm\n",
    "\n",
    "\n",
    "Using Stokes-Einstein, D = 2.16x10^-11 m^2/s\n",
    "\n",
    "Using RMS = sqrt(3RT/M), RMS = 23.8 m/s\n",
    "\n",
    "Using I = 6D/RMS = 5.45x10^-12 m\n",
    "\n",
    "t = I^2/(6D) = 2.29x10^-13 s"
   ]
  },
  {
   "cell_type": "code",
   "execution_count": 3,
   "metadata": {},
   "outputs": [],
   "source": [
    "def brownianMotion(maxTime, distanceDiff):\n",
    "    \n",
    "    #nuclease starting point in nm\n",
    "    path = np.array([40+distanceDiff,0,0])\n",
    "    \n",
    "    #start time\n",
    "    t = 0\n",
    "    \n",
    "    #timestep\n",
    "    timeStep = 2.29*10**(-13)\n",
    "    \n",
    "    counter = 0\n",
    "    \n",
    "    #mean distance\n",
    "    distance = 0.00545\n",
    "    \n",
    "    #for computational limit purposes, use these variables timestep\n",
    "    #timeStep = 0.05\n",
    "    \n",
    "    #for t in range(len(timePoints)-1):\n",
    "    while (t < maxTime):\n",
    "        \n",
    "        randomTraj = spher2cart(distance, randTheta(), randPhi())\n",
    "        \n",
    "        #randomNumberArray = np.array([[random.gauss(0, timeStep),random.gauss(0, timeStep),\n",
    "        #                             random.gauss(0, timeStep)]])\n",
    "        \n",
    "        path = np.vstack((path, path + randomTraj))\n",
    "        counter += 1\n",
    "\n",
    "        #check if molecule collides with box\n",
    "        #box is centered at (0,0,0), with 80nm side length\n",
    "        currentPosition = path[counter]\n",
    "        if currentPosition[0]<=40 and currentPosition[0]>=-40:\n",
    "            if currentPosition[1]<=40 and currentPosition[1]>=-40:\n",
    "                if currentPosition[2]<=40 and currentPosition[2]>=-40:\n",
    "                    #print('BOX HIT after ')\n",
    "                    #print(t)\n",
    "                    return t\n",
    "                \n",
    "        t = t + timeStep\n",
    "    \n",
    "    #print(path)\n",
    "    #print('no hit after ' + str(maxTime))\n",
    "    return maxTime"
   ]
  },
  {
   "cell_type": "code",
   "execution_count": 36,
   "metadata": {},
   "outputs": [
    {
     "data": {
      "text/plain": [
       "6.183e-12"
      ]
     },
     "execution_count": 36,
     "metadata": {},
     "output_type": "execute_result"
    }
   ],
   "source": [
    "brownianMotion(27*2.29*10**(-13), 0.01)"
   ]
  },
  {
   "cell_type": "code",
   "execution_count": 20,
   "metadata": {},
   "outputs": [],
   "source": [
    "results = []\n",
    "\n",
    "#set variables\n",
    "maxTime = 27*2.29*10**(-13) #in s\n",
    "distanceDiff = 0.006 #in nm\n",
    "\n",
    "for i in range(200):\n",
    "    results.append(brownianMotion(maxTime, distanceDiff))\n",
    "    \n",
    "#print(results)"
   ]
  },
  {
   "cell_type": "code",
   "execution_count": 22,
   "metadata": {},
   "outputs": [
    {
     "data": {
      "text/plain": [
       "Text(0, 0.5, 'Probability')"
      ]
     },
     "execution_count": 22,
     "metadata": {},
     "output_type": "execute_result"
    },
    {
     "data": {
      "image/png": "[encoded data removed]",
      "text/plain": [
       "<Figure size 432x288 with 1 Axes>"
      ]
     },
     "metadata": {
      "needs_background": "light"
     },
     "output_type": "display_data"
    }
   ],
   "source": [
    "plt.hist(results, density=False, bins=20, range=[0,27*2.29*10**(-13)])\n",
    "title = 'Probability of collision after t seconds, based on ' + str(distanceDiff) + ' distance between nuclease and box'\n",
    "plt.title(title)\n",
    "plt.xlabel('Time in seconds until first collision')\n",
    "plt.ylabel('Probability')"
   ]
  },
  {
   "cell_type": "code",
   "execution_count": null,
   "metadata": {},
   "outputs": [],
   "source": [
    "timeSteps = 1000\n",
    "duration = 10\n",
    "timePoints = [0]\n",
    "\n",
    "for t in range(timeSteps):\n",
    "    timePoints.append(timePoints[t] + (duration / timeSteps))\n",
    "\n",
    "brownianMotion(timePoints)"
   ]
  },
  {
   "cell_type": "code",
   "execution_count": null,
   "metadata": {},
   "outputs": [],
   "source": [
    "fig = plt.figure()\n",
    "ax = plt.axes(projection='3d')\n",
    "\n",
    "#ax.plot3D(Xs, Ys, Zs, 'red')\n"
   ]
  },
  {
   "cell_type": "code",
   "execution_count": null,
   "metadata": {},
   "outputs": [],
   "source": [
    "timeSteps = 400 #number of steps taken\n",
    "stepSize=0.05 #size of each step\n",
    "Xs=np.zeros(timeSteps+1) #array of x values\n",
    "Ys=np.zeros(timeSteps+1) #array of y values\n",
    "\n",
    "Xs[0] = 0 #initial x\n",
    "Ys[0] = 0 #initial y\n",
    "theta = 0 #initial theta\n",
    "\n",
    "# we've defined this function that might be helpful for you - be careful of units!\n",
    "def ang_to_vec(theta):\n",
    "    return np.cos(theta), np.sin(theta)\n",
    "\n",
    "# Simulate 2-D diffusion below. Your bacteria should select a random direction, then take a \"step\" in that direction.\n",
    "# Repeat for the total number of steps. Plot the trajectory of your bacteria over time (any reasonable visualization is fine)\n",
    "\n",
    "for i in range(timeSteps):\n",
    "    direction = np.random.randint(0,361) #select random direction\n",
    "    uvector = ang_to_vec(np.radians(direction)) #convert direction to unit vector\n",
    "    svector = [stepSize*u for u in uvector] #multiply unit vector by stepSize\n",
    "    Xs[i+1] = Xs[i] + svector[0] \n",
    "    Ys[i+1] = Ys[i] + svector[1]\n",
    "\n",
    "plt.plot(Xs, Ys)\n",
    "\n",
    "#select random direction\n",
    "#convert direction to unit vector\n",
    "#multiply unit vector by stepSize\n",
    "#find x and y value of new location by adding to previous location\n",
    "#append x/y value to Xs and Ys\n"
   ]
  }
 ],
 "metadata": {
  "kernelspec": {
   "display_name": "Python 3",
   "language": "python",
   "name": "python3"
  },
  "language_info": {
   "codemirror_mode": {
    "name": "ipython",
    "version": 3
   },
   "file_extension": ".py",
   "mimetype": "text/x-python",
   "name": "python",
   "nbconvert_exporter": "python",
   "pygments_lexer": "ipython3",
   "version": "3.7.6"
  }
 },
 "nbformat": 4,
 "nbformat_minor": 4
}
